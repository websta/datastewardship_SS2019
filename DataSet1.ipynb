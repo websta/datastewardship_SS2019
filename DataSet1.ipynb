{
 "cells": [
  {
   "cell_type": "markdown",
   "metadata": {},
   "source": [
    "## Analysis of Days of Week based on Fremont Bicycle Data\n",
    "Treating crossings each day as features to learn about the relationships between various days"
   ]
  },
  {
   "cell_type": "code",
   "execution_count": null,
   "metadata": {},
   "outputs": [],
   "source": [
    "%matplotlib inline\n",
    "import pandas as pd\n",
    "import matplotlib.pyplot as plt\n",
    "import os\n",
    "import sklearn\n",
    "from sklearn.decomposition import PCA\n",
    "from sklearn.mixture import GaussianMixture\n",
    "import urllib.request"
   ]
  },
  {
   "cell_type": "markdown",
   "metadata": {},
   "source": [
    "## Get Data\n",
    "Use local data or download it via DOI link from zendoo repository. Adapt the headers and calculate a total column."
   ]
  },
  {
   "cell_type": "code",
   "execution_count": null,
   "metadata": {},
   "outputs": [],
   "source": [
    "FILENAME = '../data/Fremont_Bridge_Hourly_Bicycle_Counts_by_Month_October_2012_to_present.csv'\n",
    "URL = 'https://zenodo.org/record/2648564/files/Fremont_Bridge_Hourly_Bicycle_Counts_by_Month_October_2012_to_present.csv?download=1'\n",
    "\n",
    "def get_fremont_data(filename=FILENAME, url=URL, force_download=False):\n",
    "    if force_download or not os.path.exists(filename):\n",
    "        with urllib.request.urlopen(url) as response, open(filename, 'wb') as out_file:\n",
    "            data = response.read() # a `bytes` object\n",
    "            out_file.write(data)\n",
    "    data = pd.read_csv(filename, index_col='Date', parse_dates=True)\n",
    "    data.columns = ['West', 'East']\n",
    "    data['Total'] = data['West'] + data['East']\n",
    "    return data\n"
   ]
  },
  {
   "cell_type": "code",
   "execution_count": null,
   "metadata": {},
   "outputs": [],
   "source": [
    "data = get_fremont_data()\n",
    "data.head()"
   ]
  },
  {
   "cell_type": "markdown",
   "metadata": {},
   "source": [
    "Plot weekly line graph to give a quick overview of the data"
   ]
  },
  {
   "cell_type": "code",
   "execution_count": null,
   "metadata": {},
   "outputs": [],
   "source": [
    "plt.style.use('seaborn')\n",
    "data.resample('W').sum().plot()"
   ]
  },
  {
   "cell_type": "markdown",
   "metadata": {},
   "source": [
    "Plot daily line graph to see yearly usage"
   ]
  },
  {
   "cell_type": "code",
   "execution_count": null,
   "metadata": {},
   "outputs": [],
   "source": [
    "ax = data.resample('D').sum().rolling(365).sum().plot()\n",
    "ax.set_ylim(0, None)"
   ]
  },
  {
   "cell_type": "markdown",
   "metadata": {},
   "source": [
    "Group data by time, calc mean and plot to inspect the bridge usage per time of day"
   ]
  },
  {
   "cell_type": "code",
   "execution_count": null,
   "metadata": {},
   "outputs": [],
   "source": [
    "data.groupby(data.index.time).mean().plot()"
   ]
  },
  {
   "cell_type": "markdown",
   "metadata": {},
   "source": [
    "Pivot data and split data into date and time"
   ]
  },
  {
   "cell_type": "code",
   "execution_count": null,
   "metadata": {},
   "outputs": [],
   "source": [
    "pivoted = data.pivot_table('Total', index=data.index.time, columns=data.index.date)\n",
    "pivoted.iloc[:5, :5]"
   ]
  },
  {
   "cell_type": "code",
   "execution_count": null,
   "metadata": {},
   "outputs": [],
   "source": [
    "pivoted.plot(legend=False, alpha=0.01)"
   ]
  },
  {
   "cell_type": "raw",
   "metadata": {},
   "source": []
  },
  {
   "cell_type": "markdown",
   "metadata": {},
   "source": [
    "## Principle Component Analysis\n",
    "Use PCA to find patterns based on the usage per weekday"
   ]
  },
  {
   "cell_type": "code",
   "execution_count": null,
   "metadata": {},
   "outputs": [],
   "source": [
    "X = pivoted.fillna(0).T.values\n",
    "X.shape"
   ]
  },
  {
   "cell_type": "code",
   "execution_count": null,
   "metadata": {},
   "outputs": [],
   "source": [
    "X2 = PCA(2, svd_solver='full').fit_transform(X)"
   ]
  },
  {
   "cell_type": "code",
   "execution_count": null,
   "metadata": {},
   "outputs": [],
   "source": [
    "X2.shape"
   ]
  },
  {
   "cell_type": "code",
   "execution_count": null,
   "metadata": {},
   "outputs": [],
   "source": [
    "plt.scatter(X2[:, 0], X2[:, 1])"
   ]
  },
  {
   "cell_type": "markdown",
   "metadata": {},
   "source": [
    "## Unsupervised Clustering\n",
    "Further split the data and assign labels"
   ]
  },
  {
   "cell_type": "code",
   "execution_count": null,
   "metadata": {},
   "outputs": [],
   "source": [
    "qmm = GaussianMixture(2)\n",
    "qmm.fit(X)\n",
    "labels = qmm.predict(X)\n",
    "labels"
   ]
  },
  {
   "cell_type": "code",
   "execution_count": null,
   "metadata": {},
   "outputs": [],
   "source": [
    "plt.scatter(X2[:, 0], X2[:, 1], c=labels, cmap='rainbow')\n",
    "plt.colorbar()"
   ]
  },
  {
   "cell_type": "markdown",
   "metadata": {},
   "source": [
    "Show usage patterns of each cluster"
   ]
  },
  {
   "cell_type": "code",
   "execution_count": null,
   "metadata": {},
   "outputs": [],
   "source": [
    "fig, ax = plt.subplots(1, 2, figsize=(14, 6))\n",
    "\n",
    "pivoted.T[labels == 0].T.plot(legend=False, alpha=0.1, ax=ax[0])\n",
    "pivoted.T[labels == 1].T.plot(legend=False, alpha=0.1, ax=ax[1])\n",
    "\n",
    "ax[0].set_title('Purple Cluster')\n",
    "ax[1].set_title('Red Cluster')"
   ]
  },
  {
   "cell_type": "markdown",
   "metadata": {},
   "source": [
    "## Comparing with Day of Week\n",
    "Assign colors according to weekdays to see if there is a clear separation of weekdays and weekends"
   ]
  },
  {
   "cell_type": "code",
   "execution_count": null,
   "metadata": {},
   "outputs": [],
   "source": [
    "dayofweek = pd.DatetimeIndex(pivoted.columns).dayofweek\n",
    "plt.scatter(X2[:, 0], X2[:, 1], c=dayofweek, cmap='rainbow')\n",
    "plt.colorbar()"
   ]
  },
  {
   "cell_type": "markdown",
   "metadata": {},
   "source": [
    "## Analyzing Outliers\n",
    "There is a separation in usage patterns between weekdays and weekends but with exceptions. The following points are weekdays with holiday-like pattern. One weekday is analyzed:"
   ]
  },
  {
   "cell_type": "code",
   "execution_count": null,
   "metadata": {},
   "outputs": [],
   "source": [
    "dates = pd.DatetimeIndex(pivoted.columns)\n",
    "dates[(labels == 0) & (dayofweek < 5)]\n"
   ]
  },
  {
   "cell_type": "markdown",
   "metadata": {},
   "source": [
    "2017-01-02: New Year\n",
    "\n",
    "2017-01-16: Martin Luther King day: national holiday but not all employers implemented it; demonstration with thousands of people in Seattle [Thousands march](https://www.seattletimes.com/seattle-news/puget-sound/thousands-peacefully-march-rally-in-seattle-to-remember-civil-rights-leader-mlk-jr/)\n",
    "\n",
    "2017-02-06 Thursday? [Snow Storm](https://www.seattletimes.com/seattle-news/weather/weather-service-predicts-3-to-6-inches-of-snow-in-seattle-area/)\n",
    "\n",
    "2017-05-29: Memorial day\n",
    "\n",
    "2017-07-04: Independence day\n",
    "\n",
    "2017-09-04: Labor day\n",
    "\n",
    "2017-11-23: Thanksgiving\n",
    "\n",
    "2017-11-24: Black Friday (not a holiday, but shopping event)\n",
    "\n",
    "2017-12-25: Christmas\n",
    "\n",
    "2017-12-26: no holiday\n"
   ]
  }
 ],
 "metadata": {
  "kernelspec": {
   "display_name": "Python 3",
   "language": "python",
   "name": "python3"
  },
  "language_info": {
   "codemirror_mode": {
    "name": "ipython",
    "version": 3
   },
   "file_extension": ".py",
   "mimetype": "text/x-python",
   "name": "python",
   "nbconvert_exporter": "python",
   "pygments_lexer": "ipython3",
   "version": "3.7.3"
  }
 },
 "nbformat": 4,
 "nbformat_minor": 2
}
